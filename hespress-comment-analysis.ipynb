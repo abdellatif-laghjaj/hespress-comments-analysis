{
 "cells": [
  {
   "cell_type": "markdown",
   "metadata": {},
   "source": [
    "# Hespress Sentiment analysis in DARIJA"
   ]
  },
  {
   "cell_type": "markdown",
   "metadata": {},
   "source": [
    "This notebook is done by:\n",
    "- Reda El Bettioui\n",
    "- Abdelilah Adriouich\n",
    "- Abdellatif Laghjaj"
   ]
  },
  {
   "cell_type": "code",
   "execution_count": 1,
   "metadata": {},
   "outputs": [
    {
     "name": "stdout",
     "output_type": "stream",
     "text": [
      "WARNING:tensorflow:From C:\\Users\\abdel\\AppData\\Local\\Temp\\ipykernel_7516\\4013118079.py:3: is_gpu_available (from tensorflow.python.framework.test_util) is deprecated and will be removed in a future version.\n",
      "Instructions for updating:\n",
      "Use `tf.config.list_physical_devices('GPU')` instead.\n"
     ]
    },
    {
     "data": {
      "text/plain": [
       "True"
      ]
     },
     "execution_count": 1,
     "metadata": {},
     "output_type": "execute_result"
    }
   ],
   "source": [
    "import tensorflow as tf\n",
    "tf.config.list_physical_devices('GPU')\n",
    "tf.test.is_gpu_available()"
   ]
  },
  {
   "cell_type": "markdown",
   "metadata": {},
   "source": [
    "## Importing libraries and packages"
   ]
  },
  {
   "cell_type": "code",
   "execution_count": 2,
   "metadata": {},
   "outputs": [],
   "source": [
    "# Importing necessary libraries\n",
    "import numpy as np\n",
    "import pandas as pd\n",
    "import matplotlib.pyplot as plt\n",
    "import seaborn as sns\n",
    "\n",
    "from sklearn.model_selection import train_test_split\n",
    "from sklearn.preprocessing import StandardScaler, LabelEncoder\n",
    "from sklearn.metrics import confusion_matrix, classification_report\n",
    "\n",
    "import tensorflow as tf\n",
    "from tensorflow.keras.preprocessing.text import Tokenizer\n",
    "from tensorflow.keras.preprocessing.sequence import pad_sequences\n",
    "from tensorflow.keras.models import Model\n",
    "from tensorflow.keras.layers import (\n",
    "    Input, Embedding, LSTM, Dense, Dropout, Bidirectional,\n",
    "    Layer\n",
    ")\n",
    "from tensorflow.keras.models import Sequential\n",
    "from tensorflow.keras.utils import to_categorical\n",
    "from tensorflow.keras.callbacks import EarlyStopping, ModelCheckpoint, ReduceLROnPlateau\n",
    "from tensorflow.keras.preprocessing.text import tokenizer_from_json\n",
    "\n",
    "\n",
    "from sklearn.model_selection import train_test_split\n",
    "from sklearn.preprocessing import LabelEncoder\n",
    "import re\n",
    "import os\n",
    "import joblib\n",
    "import json"
   ]
  },
  {
   "cell_type": "markdown",
   "metadata": {},
   "source": [
    "## Loading and Cleaning dataset"
   ]
  },
  {
   "cell_type": "code",
   "execution_count": 3,
   "metadata": {},
   "outputs": [
    {
     "name": "stdout",
     "output_type": "stream",
     "text": [
      "(60467, 3)\n"
     ]
    },
    {
     "data": {
      "text/html": [
       "<div>\n",
       "<style scoped>\n",
       "    .dataframe tbody tr th:only-of-type {\n",
       "        vertical-align: middle;\n",
       "    }\n",
       "\n",
       "    .dataframe tbody tr th {\n",
       "        vertical-align: top;\n",
       "    }\n",
       "\n",
       "    .dataframe thead th {\n",
       "        text-align: right;\n",
       "    }\n",
       "</style>\n",
       "<table border=\"1\" class=\"dataframe\">\n",
       "  <thead>\n",
       "    <tr style=\"text-align: right;\">\n",
       "      <th></th>\n",
       "      <th>id</th>\n",
       "      <th>comment</th>\n",
       "      <th>sentiment</th>\n",
       "    </tr>\n",
       "  </thead>\n",
       "  <tbody>\n",
       "    <tr>\n",
       "      <th>0</th>\n",
       "      <td>0</td>\n",
       "      <td>what happens</td>\n",
       "      <td>0</td>\n",
       "    </tr>\n",
       "    <tr>\n",
       "      <th>1</th>\n",
       "      <td>1</td>\n",
       "      <td>😞😞</td>\n",
       "      <td>-1</td>\n",
       "    </tr>\n",
       "    <tr>\n",
       "      <th>2</th>\n",
       "      <td>2</td>\n",
       "      <td>ان شاء الله</td>\n",
       "      <td>0</td>\n",
       "    </tr>\n",
       "    <tr>\n",
       "      <th>3</th>\n",
       "      <td>3</td>\n",
       "      <td>بالتوفيق ان شاء الله</td>\n",
       "      <td>1</td>\n",
       "    </tr>\n",
       "    <tr>\n",
       "      <th>4</th>\n",
       "      <td>4</td>\n",
       "      <td>الحمدلله على كل حال</td>\n",
       "      <td>1</td>\n",
       "    </tr>\n",
       "    <tr>\n",
       "      <th>5</th>\n",
       "      <td>5</td>\n",
       "      <td>الله يستر</td>\n",
       "      <td>0</td>\n",
       "    </tr>\n",
       "    <tr>\n",
       "      <th>6</th>\n",
       "      <td>6</td>\n",
       "      <td>امين</td>\n",
       "      <td>0</td>\n",
       "    </tr>\n",
       "    <tr>\n",
       "      <th>7</th>\n",
       "      <td>7</td>\n",
       "      <td>شكرا لك</td>\n",
       "      <td>1</td>\n",
       "    </tr>\n",
       "    <tr>\n",
       "      <th>8</th>\n",
       "      <td>8</td>\n",
       "      <td>ههههههههه</td>\n",
       "      <td>1</td>\n",
       "    </tr>\n",
       "    <tr>\n",
       "      <th>9</th>\n",
       "      <td>9</td>\n",
       "      <td>هههه ضروري بإذن الله , لفقر را عيب ؤ عار ؤ حشومة</td>\n",
       "      <td>-1</td>\n",
       "    </tr>\n",
       "  </tbody>\n",
       "</table>\n",
       "</div>"
      ],
      "text/plain": [
       "   id                                           comment  sentiment\n",
       "0   0                                      what happens          0\n",
       "1   1                                                😞😞         -1\n",
       "2   2                                       ان شاء الله          0\n",
       "3   3                              بالتوفيق ان شاء الله          1\n",
       "4   4                               الحمدلله على كل حال          1\n",
       "5   5                                        الله يستر           0\n",
       "6   6                                             امين           0\n",
       "7   7                                           شكرا لك          1\n",
       "8   8                                         ههههههههه          1\n",
       "9   9  هههه ضروري بإذن الله , لفقر را عيب ؤ عار ؤ حشومة         -1"
      ]
     },
     "metadata": {},
     "output_type": "display_data"
    }
   ],
   "source": [
    "# Load the dataset\n",
    "df = pd.read_csv(\"../Sentiment_Analysis.csv\")\n",
    "\n",
    "# Display the shape of the dataset\n",
    "print(df.shape)\n",
    "\n",
    "# Display the first 10 rows\n",
    "display(df.head(10))"
   ]
  },
  {
   "cell_type": "code",
   "execution_count": 4,
   "metadata": {},
   "outputs": [
    {
     "name": "stdout",
     "output_type": "stream",
     "text": [
      "(58406, 3)\n"
     ]
    }
   ],
   "source": [
    "# Drop duplicated rows\n",
    "df = df.drop_duplicates(subset=['comment'])\n",
    "\n",
    "# Drop rows with missing values\n",
    "df = df.dropna(subset=['comment', 'sentiment'])\n",
    "\n",
    "# Display the number of rows and columns after dropping duplicates and missing values\n",
    "print(df.shape)"
   ]
  },
  {
   "cell_type": "code",
   "execution_count": 5,
   "metadata": {},
   "outputs": [
    {
     "name": "stderr",
     "output_type": "stream",
     "text": [
      "C:\\Users\\abdel\\AppData\\Local\\Temp\\ipykernel_7516\\3956578104.py:5: FutureWarning: \n",
      "\n",
      "Passing `palette` without assigning `hue` is deprecated and will be removed in v0.14.0. Assign the `x` variable to `hue` and set `legend=False` for the same effect.\n",
      "\n",
      "  ax = sns.countplot(x='sentiment', data=df, palette='Set2')  # Use a predefined color palette\n"
     ]
    },
    {
     "data": {
      "image/png": "[encoded data removed]",
      "text/plain": [
       "<Figure size 640x480 with 1 Axes>"
      ]
     },
     "metadata": {},
     "output_type": "display_data"
    }
   ],
   "source": [
    "# Set the style for the plot\n",
    "sns.set_style('whitegrid')\n",
    "\n",
    "# Create the countplot\n",
    "ax = sns.countplot(x='sentiment', data=df, palette='Set2')  # Use a predefined color palette\n",
    "\n",
    "# Annotate each bar with an integer value\n",
    "for p in ax.patches:\n",
    "    ax.annotate(f'{int(p.get_height())}',  # Format as integer\n",
    "                (p.get_x() + p.get_width() / 2., p.get_height()), \n",
    "                ha='center', va='center', \n",
    "                xytext=(0, 10), \n",
    "                textcoords='offset points')\n",
    "\n",
    "# Set the labels for the axes\n",
    "ax.set_xlabel('Sentiment', fontsize=12)\n",
    "ax.set_ylabel('Count', fontsize=12)\n",
    "\n",
    "# Show the plot\n",
    "plt.show()"
   ]
  },
  {
   "cell_type": "markdown",
   "metadata": {},
   "source": [
    "## Building the model"
   ]
  },
  {
   "cell_type": "code",
   "execution_count": 6,
   "metadata": {},
   "outputs": [],
   "source": [
    "def compute_class_weights(y):\n",
    "    classes = np.unique(y)\n",
    "    weights = dict()\n",
    "    for c in classes:\n",
    "        weights[c] = len(y) / (len(classes) * np.sum(y == c))\n",
    "    return weights"
   ]
  },
  {
   "cell_type": "code",
   "execution_count": 7,
   "metadata": {},
   "outputs": [],
   "source": [
    "class AttentionLayer(Layer):\n",
    "    def __init__(self, **kwargs):\n",
    "        super(AttentionLayer, self).__init__(**kwargs)\n",
    "\n",
    "    def build(self, input_shape):\n",
    "        self.W = self.add_weight(\n",
    "            name=\"att_weight\",\n",
    "            shape=(input_shape[-1], 1),\n",
    "            initializer=\"normal\"\n",
    "        )\n",
    "        self.b = self.add_weight(\n",
    "            name=\"att_bias\",\n",
    "            shape=(input_shape[1], 1),\n",
    "            initializer=\"zeros\"\n",
    "        )\n",
    "        super(AttentionLayer, self).build(input_shape)\n",
    "\n",
    "    def call(self, x):\n",
    "        et = tf.keras.backend.squeeze(tf.keras.backend.tanh(tf.keras.backend.dot(x, self.W) + self.b), axis=-1)\n",
    "        at = tf.keras.backend.softmax(et, axis=-1)  # Softmax to get attention weights\n",
    "        at = tf.keras.backend.expand_dims(at, axis=-1)\n",
    "        output = x * at\n",
    "        return tf.keras.backend.sum(output, axis=1)\n",
    "\n",
    "    def compute_output_shape(self, input_shape):\n",
    "        return (input_shape[0], input_shape[-1])\n",
    "\n",
    "    def get_config(self):\n",
    "        return super(AttentionLayer, self).get_config()"
   ]
  },
  {
   "cell_type": "code",
   "execution_count": 8,
   "metadata": {},
   "outputs": [],
   "source": [
    "class ArabicSentimentAnalyzer:\n",
    "    def __init__(self, max_words=100000, max_len=150):\n",
    "        self.max_words = max_words\n",
    "        self.max_len = max_len\n",
    "        self.tokenizer = Tokenizer(num_words=max_words, oov_token='<OOV>')\n",
    "        self.label_encoder = LabelEncoder()\n",
    "        self.model = None\n",
    "        \n",
    "    def preprocess_text(self, text):\n",
    "        \"\"\"Enhanced text preprocessing for Arabic\"\"\"\n",
    "        text = str(text)\n",
    "        text = re.sub(r'http\\S+|www\\S+|https\\S+', '', text, flags=re.MULTILINE)\n",
    "        text = re.sub(r'[^\\u0600-\\u06FF\\s😀-🙏]', ' ', text)\n",
    "        \n",
    "        replacements = {\n",
    "            'أ': 'ا',\n",
    "            'إ': 'ا',\n",
    "            'آ': 'ا',\n",
    "            'ة': 'ه',\n",
    "            'ى': 'ي',\n",
    "            'ئ': 'ي',\n",
    "        }\n",
    "        for old, new in replacements.items():\n",
    "            text = text.replace(old, new)\n",
    "            \n",
    "        text = re.sub(r'[\\u064B-\\u065F\\u0670]', '', text)\n",
    "        text = re.sub(r'(.)\\1{2,}', r'\\1\\1', text)\n",
    "        text = re.sub(r'\\s+', ' ', text)\n",
    "        \n",
    "        return text.strip()\n",
    "    \n",
    "    def prepare_data(self, comments, labels, augment=True):\n",
    "        \"\"\"Prepare and augment data for training\"\"\"\n",
    "        processed_comments = [self.preprocess_text(comment) for comment in comments]\n",
    "        \n",
    "        if augment:\n",
    "            augmented_comments = []\n",
    "            augmented_labels = []\n",
    "            for comment, label in zip(processed_comments, labels):\n",
    "                augmented_comments.append(comment)\n",
    "                augmented_labels.append(label)\n",
    "                if label != 0:\n",
    "                    words = comment.split()\n",
    "                    if len(words) > 3:\n",
    "                        idx = np.random.randint(0, len(words))\n",
    "                        new_comment = ' '.join(words[:idx] + words[idx+1:])\n",
    "                        augmented_comments.append(new_comment)\n",
    "                        augmented_labels.append(label)\n",
    "        \n",
    "        final_comments = augmented_comments if augment else processed_comments\n",
    "        final_labels = augmented_labels if augment else labels\n",
    "        \n",
    "        self.tokenizer.fit_on_texts(final_comments)\n",
    "        sequences = self.tokenizer.texts_to_sequences(final_comments)\n",
    "        X = pad_sequences(sequences, maxlen=self.max_len, padding='post')\n",
    "        \n",
    "        y = self.label_encoder.fit_transform(final_labels)\n",
    "        \n",
    "        return X, y\n",
    "    \n",
    "    def build_model(self, embedding_dim=300):\n",
    "        vocab_size = min(len(self.tokenizer.word_index) + 1, self.max_words)\n",
    "        \n",
    "        input_layer = Input(shape=(self.max_len,))\n",
    "        embedding_layer = Embedding(vocab_size, embedding_dim, embeddings_regularizer=tf.keras.regularizers.l2(1e-5))(input_layer)\n",
    "        \n",
    "        lstm_1 = Bidirectional(LSTM(256, return_sequences=True, dropout=0.3))(embedding_layer)\n",
    "        lstm_2 = Bidirectional(LSTM(128, return_sequences=True, dropout=0.3))(lstm_1)\n",
    "\n",
    "        \n",
    "        attention_layer = AttentionLayer()(lstm_2)\n",
    "        \n",
    "        dense_1 = Dense(256, activation='relu')(attention_layer)\n",
    "        dropout_1 = Dropout(0.5)(dense_1)\n",
    "        \n",
    "        dense_2 = Dense(128, activation='relu')(dropout_1)\n",
    "        dropout_2 = Dropout(0.5)(dense_2)\n",
    "        \n",
    "        output_layer = Dense(3, activation='softmax')(dropout_2)\n",
    "        \n",
    "        model = Model(inputs=input_layer, outputs=output_layer)\n",
    "        \n",
    "        optimizer = tf.keras.optimizers.Adam(learning_rate=0.001)\n",
    "        model.compile(optimizer=optimizer, loss='sparse_categorical_crossentropy', metrics=['accuracy'])\n",
    "        \n",
    "        self.model = model\n",
    "        return model\n",
    "    \n",
    "    def train(self, X, y, validation_split=0.2, epochs=30, batch_size=32, model_save_path=\"./sentiment_model.h5\", tokenizer_save_path=\"./tokenizer.json\", label_encoder_save_path=\"./label_encoder.pkl\"):\n",
    "        \"\"\"Train with improved callbacks and learning rate scheduling\"\"\"\n",
    "        os.makedirs('model_checkpoints', exist_ok=True)\n",
    "        \n",
    "        callbacks = [\n",
    "            EarlyStopping(monitor='val_loss', patience=5, restore_best_weights=True, min_delta=0.001),\n",
    "            ModelCheckpoint(filepath='./best_model.keras', monitor='val_accuracy', save_best_only=True, mode='max'),\n",
    "            ReduceLROnPlateau(monitor='val_loss', factor=0.5, patience=3, min_lr=0.00001, verbose=1)\n",
    "        ]\n",
    "        \n",
    "        class_weights = compute_class_weights(y)\n",
    "        \n",
    "        history = self.model.fit(\n",
    "            X, y,\n",
    "            validation_split=validation_split,\n",
    "            epochs=epochs,\n",
    "            batch_size=batch_size,\n",
    "            callbacks=callbacks,\n",
    "            class_weight=class_weights,\n",
    "            verbose=1\n",
    "        )\n",
    "        \n",
    "        # Save model\n",
    "        self.model.save(model_save_path)\n",
    "        print(f\"Model saved to {model_save_path}\")\n",
    "        \n",
    "        # Save tokenizer\n",
    "        tokenizer_json = self.tokenizer.to_json()\n",
    "        with open(tokenizer_save_path, 'w') as f:\n",
    "            json.dump(tokenizer_json, f)\n",
    "        print(f\"Tokenizer saved to {tokenizer_save_path}\")\n",
    "        \n",
    "        # Save label encoder\n",
    "        joblib.dump(self.label_encoder, label_encoder_save_path)\n",
    "        print(f\"Label encoder saved to {label_encoder_save_path}\")\n",
    "        \n",
    "        return history\n",
    "    \n",
    "    def predict(self, texts):\n",
    "        processed_texts = [self.preprocess_text(text) for text in texts]\n",
    "        sequences = self.tokenizer.texts_to_sequences(processed_texts)\n",
    "        X = pad_sequences(sequences, maxlen=self.max_len, padding='post')\n",
    "        \n",
    "        predictions = self.model.predict(X)\n",
    "        predicted_labels = np.argmax(predictions, axis=1)\n",
    "        \n",
    "        return self.label_encoder.inverse_transform(predicted_labels)"
   ]
  },
  {
   "cell_type": "markdown",
   "metadata": {},
   "source": [
    "## Train the model"
   ]
  },
  {
   "cell_type": "code",
   "execution_count": null,
   "metadata": {},
   "outputs": [],
   "source": [
    "# Create an instance of the ArabicSentimentAnalyzer class\n",
    "analyzer = ArabicSentimentAnalyzer()\n",
    "\n",
    "# Prepare the data\n",
    "X, y = analyzer.prepare_data(\n",
    "    comments=df['comment'].values,\n",
    "    labels=df['sentiment'].values,\n",
    "    augment=True\n",
    "    )"
   ]
  },
  {
   "cell_type": "markdown",
   "metadata": {},
   "source": [
    "Let's visualize data distribution across different sentiments after augmentation:"
   ]
  },
  {
   "cell_type": "code",
   "execution_count": 10,
   "metadata": {},
   "outputs": [
    {
     "name": "stderr",
     "output_type": "stream",
     "text": [
      "C:\\Users\\abdel\\AppData\\Local\\Temp\\ipykernel_7516\\2579700080.py:5: FutureWarning: \n",
      "\n",
      "Passing `palette` without assigning `hue` is deprecated and will be removed in v0.14.0. Assign the `x` variable to `hue` and set `legend=False` for the same effect.\n",
      "\n",
      "  ax = sns.countplot(x=y, palette='Set2')  # Use a predefined color palette\n"
     ]
    },
    {
     "data": {
      "image/png": "[encoded data removed]",
      "text/plain": [
       "<Figure size 640x480 with 1 Axes>"
      ]
     },
     "metadata": {},
     "output_type": "display_data"
    }
   ],
   "source": [
    "# Set the style for the plot\n",
    "sns.set_style('whitegrid')\n",
    "\n",
    "# Create the countplot\n",
    "ax = sns.countplot(x=y, palette='Set2')  # Use a predefined color palette\n",
    "\n",
    "# Annotate each bar with an integer value\n",
    "for p in ax.patches:\n",
    "    ax.annotate(f'{int(p.get_height())}',  # Format as integer\n",
    "                (p.get_x() + p.get_width() / 2., p.get_height()), \n",
    "                ha='center', va='center', \n",
    "                xytext=(0, 10), \n",
    "                textcoords='offset points')\n",
    "\n",
    "# Set the labels for the axes\n",
    "ax.set_xlabel('Sentiment', fontsize=12)\n",
    "ax.set_ylabel('Count', fontsize=12)\n",
    "\n",
    "# Show the plot\n",
    "plt.show()"
   ]
  },
  {
   "cell_type": "code",
   "execution_count": null,
   "metadata": {},
   "outputs": [
    {
     "name": "stdout",
     "output_type": "stream",
     "text": [
      "Epoch 1/30\n",
      "1910/1910 [==============================] - 147s 75ms/step - loss: 0.7894 - accuracy: 0.6756 - val_loss: 0.5997 - val_accuracy: 0.7954 - lr: 0.0010\n",
      "Epoch 2/30\n",
      "1910/1910 [==============================] - 154s 81ms/step - loss: 0.5093 - accuracy: 0.8555 - val_loss: 0.5563 - val_accuracy: 0.8263 - lr: 0.0010\n",
      "Epoch 3/30\n",
      "1910/1910 [==============================] - 143s 75ms/step - loss: 0.3214 - accuracy: 0.9187 - val_loss: 0.5145 - val_accuracy: 0.8518 - lr: 0.0010\n",
      "Epoch 4/30\n",
      "1910/1910 [==============================] - 133s 70ms/step - loss: 0.2475 - accuracy: 0.9388 - val_loss: 0.5592 - val_accuracy: 0.8475 - lr: 0.0010\n",
      "Epoch 5/30\n",
      "1910/1910 [==============================] - 138s 72ms/step - loss: 0.2347 - accuracy: 0.9416 - val_loss: 0.6039 - val_accuracy: 0.8389 - lr: 0.0010\n",
      "Epoch 6/30\n",
      "1910/1910 [==============================] - ETA: 0s - loss: 0.2203 - accuracy: 0.9465\n",
      "Epoch 6: ReduceLROnPlateau reducing learning rate to 0.0005000000237487257.\n",
      "1910/1910 [==============================] - 143s 75ms/step - loss: 0.2203 - accuracy: 0.9465 - val_loss: 0.6014 - val_accuracy: 0.8461 - lr: 0.0010\n",
      "Epoch 7/30\n",
      "1910/1910 [==============================] - 141s 74ms/step - loss: 0.1664 - accuracy: 0.9607 - val_loss: 0.6536 - val_accuracy: 0.8500 - lr: 5.0000e-04\n",
      "Epoch 8/30\n",
      "1910/1910 [==============================] - 154s 81ms/step - loss: 0.1195 - accuracy: 0.9672 - val_loss: 0.7550 - val_accuracy: 0.8437 - lr: 5.0000e-04\n",
      "Model saved to ./sentiment_model.h5\n",
      "Tokenizer saved to ./tokenizer.json\n",
      "Label encoder saved to ./label_encoder.pkl\n"
     ]
    }
   ],
   "source": [
    "# Split the data into training and testing sets\n",
    "X_train, X_test, y_train, y_test = train_test_split(\n",
    "    X, y, test_size=0.1, random_state=42, stratify=y\n",
    ")\n",
    "\n",
    "# Train the model\n",
    "model = analyzer.build_model()\n",
    "history = analyzer.train(X_train, y_train, epochs=30)"
   ]
  },
  {
   "cell_type": "markdown",
   "metadata": {},
   "source": [
    "## Evaluate the model"
   ]
  },
  {
   "cell_type": "code",
   "execution_count": 19,
   "metadata": {},
   "outputs": [
    {
     "name": "stdout",
     "output_type": "stream",
     "text": [
      "266/266 [==============================] - 7s 26ms/step - loss: 0.5047 - accuracy: 0.8513\n",
      "Test loss: 0.5047\n",
      "Test accuracy: 0.8513\n"
     ]
    }
   ],
   "source": [
    "# Evaluate the model\n",
    "loss, accuracy = model.evaluate(X_test, y_test)\n",
    "print(f\"Test loss: {loss:.4f}\")\n",
    "print(f\"Test accuracy: {accuracy:.4f}\")"
   ]
  },
  {
   "cell_type": "code",
   "execution_count": 20,
   "metadata": {},
   "outputs": [
    {
     "name": "stdout",
     "output_type": "stream",
     "text": [
      "266/266 [==============================] - 7s 23ms/step\n"
     ]
    },
    {
     "data": {
      "image/png": "[encoded data removed]",
      "text/plain": [
       "<Figure size 800x600 with 2 Axes>"
      ]
     },
     "metadata": {},
     "output_type": "display_data"
    }
   ],
   "source": [
    "# Get the model's predictions\n",
    "predictions = model.predict(X_test)\n",
    "\n",
    "# Convert the predicted labels to the same format as the true labels\n",
    "predicted_labels = np.argmax(predictions, axis=1)\n",
    "\n",
    "# Generate the confusion matrix\n",
    "cm = confusion_matrix(y_test, predicted_labels)\n",
    "\n",
    "# Plotting the confusion matrix\n",
    "plt.figure(figsize=(8, 6))\n",
    "sns.heatmap(cm, annot=True, fmt='d', cmap='Blues', xticklabels=['Negative', 'Neutral', 'Positive'], yticklabels=['Negative', 'Neutral', 'Positive'])\n",
    "plt.xlabel('Predicted Label')\n",
    "plt.ylabel('True Label')\n",
    "plt.title('Confusion Matrix')\n",
    "plt.show()"
   ]
  },
  {
   "cell_type": "markdown",
   "metadata": {},
   "source": [
    "## Saving the model"
   ]
  },
  {
   "cell_type": "code",
   "execution_count": 21,
   "metadata": {
    "execution": {
     "iopub.execute_input": "2024-11-24T11:27:40.426062Z",
     "iopub.status.busy": "2024-11-24T11:27:40.425682Z",
     "iopub.status.idle": "2024-11-24T11:27:41.238879Z",
     "shell.execute_reply": "2024-11-24T11:27:41.237997Z",
     "shell.execute_reply.started": "2024-11-24T11:27:40.426019Z"
    },
    "trusted": true
   },
   "outputs": [
    {
     "name": "stderr",
     "output_type": "stream",
     "text": [
      "WARNING:absl:Found untraced functions such as lstm_cell_19_layer_call_fn, lstm_cell_19_layer_call_and_return_conditional_losses, lstm_cell_20_layer_call_fn, lstm_cell_20_layer_call_and_return_conditional_losses, lstm_cell_22_layer_call_fn while saving (showing 5 of 8). These functions will not be directly callable after loading.\n"
     ]
    },
    {
     "name": "stdout",
     "output_type": "stream",
     "text": [
      "INFO:tensorflow:Assets written to: ./assets\n"
     ]
    },
    {
     "name": "stderr",
     "output_type": "stream",
     "text": [
      "INFO:tensorflow:Assets written to: ./assets\n"
     ]
    },
    {
     "name": "stdout",
     "output_type": "stream",
     "text": [
      "Model saved\n"
     ]
    }
   ],
   "source": [
    "analyzer.model.save(\"./\")\n",
    "print(\"Model saved\")"
   ]
  }
 ],
 "metadata": {
  "kaggle": {
   "accelerator": "nvidiaTeslaT4",
   "dataSources": [
    {
     "datasetId": 6151915,
     "sourceId": 9995283,
     "sourceType": "datasetVersion"
    }
   ],
   "dockerImageVersionId": 30787,
   "isGpuEnabled": true,
   "isInternetEnabled": true,
   "language": "python",
   "sourceType": "notebook"
  },
  "kernelspec": {
   "display_name": "py310",
   "language": "python",
   "name": "python3"
  },
  "language_info": {
   "codemirror_mode": {
    "name": "ipython",
    "version": 3
   },
   "file_extension": ".py",
   "mimetype": "text/x-python",
   "name": "python",
   "nbconvert_exporter": "python",
   "pygments_lexer": "ipython3",
   "version": "3.10.15"
  }
 },
 "nbformat": 4,
 "nbformat_minor": 4
}
